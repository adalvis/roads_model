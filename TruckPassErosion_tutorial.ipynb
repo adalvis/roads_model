{
 "cells": [
  {
   "cell_type": "markdown",
   "id": "142a807f",
   "metadata": {},
   "source": [
    "# `TruckPassErosion` component tutorial"
   ]
  },
  {
   "cell_type": "markdown",
   "id": "84c53910",
   "metadata": {},
   "source": [
    "The goal of this Landlab component is to calculate sediment depths for forest road cross section layers based on traffic-induced, erosion-enhancing processes: pumping, crushing, scattering (and by default, flow rerouting).\n",
    "\n",
    "<p align=\"center\" width=\"100%\">\n",
    "    <img src=\"TruckPassErosion_Component.png\" width=\"60%\">\n",
    "</p>\n",
    "\n",
    "#### References\n",
    "Alvis, A. D., Luce, C. H., & Istanbulluoglu, E. (2023). How does traffic \n",
    "affect erosion of unpaved forest roads? Environmental Reviews, 31(1), \n",
    "182–194. https://doi.org/10.1139/er-2022-0032\n"
   ]
  },
  {
   "cell_type": "markdown",
   "id": "122ea426",
   "metadata": {},
   "source": [
    "## Load necessary `python` packages and set some defaults"
   ]
  },
  {
   "cell_type": "code",
   "execution_count": null,
   "id": "30ebb8e8",
   "metadata": {},
   "outputs": [],
   "source": [
    "import numpy as np\n",
    "import matplotlib as mpl\n",
    "import matplotlib.pyplot as plt\n",
    "from mpl_toolkits.mplot3d import Axes3D\n",
    "\n",
    "from landlab import RasterModelGrid \n",
    "from landlab.components import TruckPassErosion\n",
    "from landlab.plot.imshow import imshow_grid\n",
    "\n",
    "mpl.rcParams['font.family'] = 'sans-serif'\n",
    "mpl.rcParams['font.weight'] = 'medium'\n",
    "mpl.rcParams['axes.labelweight'] = 'normal'"
   ]
  },
  {
   "cell_type": "markdown",
   "id": "ab1c7e94",
   "metadata": {},
   "source": [
    "## Creating a synthetic grid\n",
    "\n",
    "For this tutorial, we're going to create a synthetic grid (i.e., make our own DEM!) with a ditch line. We're going to develop a `python` function so we can easily change node spacing depending on whether we're using a node size of a full-tire width or a half-tire-width. We'll call `ErodibleGrid` before we run our `TruckPassErosion` component.\n",
    "\n",
    "Within `ErodibleGrid`, we call Landlab's `RasterModelGrid` to create a raster grid, and we add a few fields to the grid (e.g., `'topographic__elevation'`, `'roughness'`) with data."
   ]
  },
  {
   "cell_type": "code",
   "execution_count": null,
   "id": "87e0e931",
   "metadata": {},
   "outputs": [],
   "source": [
    "# Create erodible grid function\n",
    "def ErodibleGrid(nrows, ncols, spacing, full_tire):\n",
    "    mg = RasterModelGrid((nrows,ncols),spacing)\n",
    "    z = mg.add_zeros('topographic__elevation', at='node') #create the topographic__elevation field\n",
    "    road_flag = mg.add_zeros('flag', at='node') #create a road_flag field for determining whether a \n",
    "                                                #node is part of the road or the ditch line\n",
    "    n = mg.add_zeros('roughness', at='node') #create roughness field\n",
    "    \n",
    "    mg.set_closed_boundaries_at_grid_edges(False, False, False, False) \n",
    "    \n",
    "    if full_tire == False: #When node spacing is half-tire-width\n",
    "        road_peak = 40 #peak crowning height occurs at this x-location\n",
    "        up = 0.0067 #rise of slope from ditchline to crown\n",
    "        down = 0.0067 #rise of slope from crown to fillslope\n",
    "        \n",
    "        for g in range(nrows): #loop through road length\n",
    "            elev = 0 #initialize elevation placeholder\n",
    "            flag = False #initialize road_flag placeholder\n",
    "            roughness = 0.1 #initialize roughness placeholder   \n",
    "\n",
    "            for h in range(ncols): #loop through road width\n",
    "                if h == 0 or h == 8:\n",
    "                    elev = 0\n",
    "                    flag = False\n",
    "                    roughness = 0.1\n",
    "                elif h == 1 or h == 7:\n",
    "                    elev = -0.333375\n",
    "                    flag = False\n",
    "                    roughness = 0.1\n",
    "                elif h == 2 or h == 6:\n",
    "                    elev = -0.5715\n",
    "                    flag = False\n",
    "                    roughness = 0.1\n",
    "                elif h == 3 or h == 5:\n",
    "                    elev = -0.714375\n",
    "                    flag = False\n",
    "                    roughness = 0.1\n",
    "                elif h == 4:\n",
    "                    elev = -0.762\n",
    "                    flag = False\n",
    "                    roughness = 0.1\n",
    "                elif h < road_peak and h > 8: #update latitudinal slopes based on location related to road_peak\n",
    "                    elev += up\n",
    "                    flag = True\n",
    "                    roughness = 0.05\n",
    "                else:\n",
    "                    elev -= down\n",
    "                    flag = True\n",
    "                    roughness = 0.05\n",
    "\n",
    "                z[g*ncols + h] = elev #update elevation based on x & y locations\n",
    "                road_flag[g*ncols+h] = flag #update road_flag based on x & y locations\n",
    "                n[g*ncols + h] = roughness #update roughness values based on x & y locations\n",
    "    elif full_tire == True: #When node spacing is full-tire-width\n",
    "        road_peak = 20 #peak crowning height occurs at this x-location\n",
    "        up = 0.0134 #rise of slope from ditchline to crown\n",
    "        down = 0.0134 #rise of slope from crown to fillslope\n",
    "        \n",
    "        for g in range(nrows): #loop through road length\n",
    "            elev = 0 #initialize elevation placeholder\n",
    "            flag = False #initialize road_flag placeholder\n",
    "            roughness = 0.1 #initialize roughness placeholder\n",
    "\n",
    "            for h in range(ncols): #loop through road width\n",
    "                if h == 0 or h == 4:\n",
    "                    elev = 0\n",
    "                    flag = False\n",
    "                    roughness = 0.1\n",
    "                elif h == 1 or h == 3:\n",
    "                    elev = -0.5715\n",
    "                    flag = False\n",
    "                    roughness = 0.1\n",
    "                elif h == 2:\n",
    "                    elev = -0.762\n",
    "                    flag = False\n",
    "                    roughness = 0.1\n",
    "                elif h < road_peak and h > 4: #update latitudinal slopes based on location related to road_peak\n",
    "                    elev += up\n",
    "                    flag = True\n",
    "                    roughness = 0.05\n",
    "                else:\n",
    "                    elev -= down\n",
    "                    flag = True\n",
    "                    roughness = 0.05\n",
    "\n",
    "                z[g*ncols + h] = elev #update elevation based on x & y locations\n",
    "                road_flag[g*ncols+h] = flag #update road_flag based on x & y locations\n",
    "                n[g*ncols + h] = roughness #update roughness values based on x & y locations\n",
    "        \n",
    "    z += mg.node_y*0.05 #add longitudinal slope to road segment\n",
    "    road_flag = road_flag.astype(bool) #Make sure road_flag is a boolean array\n",
    "                \n",
    "    return(mg, z, road_flag, n)  "
   ]
  },
  {
   "cell_type": "markdown",
   "id": "f213b8d6",
   "metadata": {},
   "source": [
    "### Create grid using half-tire-width node spacing"
   ]
  },
  {
   "cell_type": "markdown",
   "id": "8df51906",
   "metadata": {},
   "source": [
    "We'll first call `ErodibleGrid` with the values needed to create a synthetic grid that is ~80m long by ~10.5m wide (including the ditch line) using half-tire-width node spacing (~0.15m). We'll also add small perturbations to the road surface such that there is a slightly more interesting topography."
   ]
  },
  {
   "cell_type": "code",
   "execution_count": null,
   "id": "142c8b59",
   "metadata": {},
   "outputs": [],
   "source": [
    "mg, z, road_flag, n = ErodibleGrid(540,72,0.1475,False) #False indicates we're using half tire width\n",
    "noise_amplitude=0.006 #to create small perturbations in the road surface\n",
    "\n",
    "z[mg.core_nodes] = z[mg.core_nodes] + noise_amplitude * np.random.rand(\n",
    "    mg.number_of_core_nodes\n",
    ")\n",
    "\n",
    "#add absolute elevation fields to the grid that will update based on changes in z\n",
    "mg.at_node['active__elev'] = z\n",
    "mg.at_node['surfacing__elev'] = z - 0.0275\n",
    "mg.at_node['ballast__elev'] = z - 0.0275 - 0.23\n",
    "\n",
    "#add sediment depth fields that will update in the component\n",
    "mg.at_node['active__depth'] = np.ones(540*72)*0.0275\n",
    "mg.at_node['surfacing__depth'] = np.ones(540*72)*0.23\n",
    "mg.at_node['ballast__depth'] = np.ones(540*72)*2.0"
   ]
  },
  {
   "cell_type": "code",
   "execution_count": null,
   "id": "92bd9e87",
   "metadata": {},
   "outputs": [],
   "source": [
    "# Plot initial grid\n",
    "plt.figure(figsize = (3,6), layout='tight')\n",
    "im = imshow_grid(mg, z, allow_colorbar=False, grid_units = ('m','m'), cmap = 'gist_earth', vmin = 0, vmax = 4)\n",
    "cb = plt.colorbar()\n",
    "cb.set_label('Elevation (m)')\n",
    "plt.xlabel('Road width (m)')\n",
    "plt.ylabel('Road length (m)')\n",
    "plt.tight_layout()\n",
    "plt.show()"
   ]
  },
  {
   "cell_type": "code",
   "execution_count": null,
   "id": "b29f0f16",
   "metadata": {},
   "outputs": [],
   "source": [
    "# Prep some variables for later\n",
    "xsec_pre = mg.at_node['topographic__elevation'][4392*2:4428*2].copy() #This is the initial road surface--saving for comparison\n",
    "\n",
    "X = mg.node_x.reshape(mg.shape)\n",
    "Y = mg.node_y.reshape(mg.shape)\n",
    "Z = z.reshape(mg.shape)"
   ]
  },
  {
   "cell_type": "markdown",
   "id": "0650c00c",
   "metadata": {},
   "source": [
    "## Running the `TruckPassErosion` component\n",
    "\n",
    "To run `TruckPassErosion`, like all `landlab` components, there are two main steps:\n",
    "1. Initialize the component\n",
    "2. Use the `run_one_step()` method of the component\n",
    "\n",
    "To initialize the component, you call the component and feed it the parameters that it asks for. Let's look at the parameters we can pass to `TruckPassErosion`."
   ]
  },
  {
   "cell_type": "code",
   "execution_count": null,
   "id": "d4decb03",
   "metadata": {},
   "outputs": [],
   "source": [
    "TruckPassErosion?"
   ]
  },
  {
   "cell_type": "markdown",
   "id": "64703d1e",
   "metadata": {},
   "source": [
    "There are a number of parameters that *can* be passed to `TruckPassErosion`, but there are only 4 required parameters: the grid itself, the centerline of the road surface (either as a single node or an array of nodes), the half width of the truck (in number of nodes), and a flag to indicate whether the node spacing is for a full tire width or half tire width. So to initialize `TruckPassErosion`, we can define necessary parameters, then run a single line of code:"
   ]
  },
  {
   "cell_type": "code",
   "execution_count": null,
   "id": "2fd8a683",
   "metadata": {},
   "outputs": [],
   "source": [
    "center = 40 #center node of the road\n",
    "half_width = 7 #how far each tire extends from center\n",
    "full_tire = False\n",
    "\n",
    "tpe = TruckPassErosion(mg, center, half_width, full_tire) #initialize component"
   ]
  },
  {
   "cell_type": "markdown",
   "id": "5129fcc5",
   "metadata": {},
   "source": [
    "Next, we need to call the `run_one_step()` method of `TruckPassErosion`. No additional parameters are required for this method. This is where we \"run the model\" (i.e., each `run_one_step()` method call is a single timestep for the overall model.)"
   ]
  },
  {
   "cell_type": "code",
   "execution_count": null,
   "id": "2b63ce5c",
   "metadata": {},
   "outputs": [],
   "source": [
    "import time #to see how long it takes to run this component!\n",
    "start = time.time()\n",
    "\n",
    "#define how long to run the model\n",
    "model_end = 10 #days\n",
    "for i in range(0, model_end): #loop through model days\n",
    "    tpe.run_one_step() #call the method\n",
    "\n",
    "end = time.time()\n",
    "print(f\"Time taken to run the code was {end-start} seconds\")"
   ]
  },
  {
   "cell_type": "markdown",
   "id": "f8e7c7ee",
   "metadata": {},
   "source": [
    "## Looking at the results\n",
    "\n",
    "The component runs very quickly, and now we can look at the results. We should see rutting in the road surface due to truck passes. We'll look at this both as a cross section and as a map."
   ]
  },
  {
   "cell_type": "markdown",
   "id": "729b82e2",
   "metadata": {},
   "source": [
    "### Cross section"
   ]
  },
  {
   "cell_type": "code",
   "execution_count": null,
   "id": "cee8fa20",
   "metadata": {},
   "outputs": [],
   "source": [
    "xsec_active = mg.at_node['active__elev'][4392*2:4428*2] #active layer elevation\n",
    "xsec_surf =  mg.at_node['surfacing__elev'][4392*2:4428*2] #surfacing layer elevation\n",
    "xsec_ball = mg.at_node['ballast__elev'][4392*2:4428*2] #ballast layer elevation\n",
    "\n",
    "plt.figure(figsize=(8,3), layout='tight')\n",
    "plt.plot(X[36], xsec_pre, color='gray', linestyle='-.', label='Before') #this is the saved array from earlier\n",
    "plt.plot(X[36], xsec_active, color ='black', linestyle='-', label = 'After - Active elevation')\n",
    "plt.plot(X[36], xsec_surf, color ='magenta', linestyle='-', label = 'After - Surfacing elevation')\n",
    "plt.plot(X[36], xsec_ball, color ='cyan', linestyle='-', label = 'After - Ballast elevation ')\n",
    "plt.xlim(0,10)\n",
    "plt.xlabel('Road width (m)')\n",
    "plt.ylabel('Elevation (m)')\n",
    "plt.legend()\n",
    "plt.show()"
   ]
  },
  {
   "cell_type": "markdown",
   "id": "8a562f6d",
   "metadata": {},
   "source": [
    "### Map"
   ]
  },
  {
   "cell_type": "code",
   "execution_count": null,
   "id": "c896989f",
   "metadata": {},
   "outputs": [],
   "source": [
    "# 2D rill plot\n",
    "plt.figure(figsize = (3,6), layout='tight')\n",
    "im = imshow_grid(mg, z, allow_colorbar=False, grid_units = ('m','m'), cmap = 'gist_earth', vmin = 0, vmax = 4)\n",
    "cb = plt.colorbar()\n",
    "cb.set_label('Elevation (m)')\n",
    "plt.xlabel('Road width (m)')\n",
    "plt.ylabel('Road length (m)')\n",
    "plt.tight_layout()\n",
    "plt.show()"
   ]
  },
  {
   "cell_type": "markdown",
   "id": "71b896bf",
   "metadata": {},
   "source": [
    "## Start again!\n",
    "### This time, we'll create a grid using full-tire-width node spacing"
   ]
  },
  {
   "cell_type": "code",
   "execution_count": null,
   "id": "abd111ae",
   "metadata": {},
   "outputs": [],
   "source": [
    "mg, z, road_flag, n = ErodibleGrid(270,36,0.295,True) #full tire width\n",
    "noise_amplitude=0.006\n",
    "\n",
    "z[mg.core_nodes] = z[mg.core_nodes] + noise_amplitude * np.random.rand(\n",
    "    mg.number_of_core_nodes\n",
    ")\n",
    "\n",
    "#add absolute elevation fields that will update based on z updates\n",
    "mg.at_node['active__elev'] = z\n",
    "mg.at_node['surfacing__elev'] = z - 0.0275\n",
    "mg.at_node['ballast__elev'] = z - 0.0275 - 0.23\n",
    "\n",
    "#add depth fields that will update in the component\n",
    "mg.at_node['active__depth'] = np.ones(270*36)*0.0275\n",
    "mg.at_node['surfacing__depth'] = np.ones(270*36)*0.23\n",
    "mg.at_node['ballast__depth'] = np.ones(270*36)*2.0"
   ]
  },
  {
   "cell_type": "code",
   "execution_count": null,
   "id": "aad38d6d",
   "metadata": {},
   "outputs": [],
   "source": [
    "# Plot initial grid\n",
    "plt.figure(figsize = (3,6), layout='tight')\n",
    "im = imshow_grid(mg, z, allow_colorbar=False, grid_units = ('m','m'), cmap = 'gist_earth', vmin = 0, vmax = 4)\n",
    "cb = plt.colorbar()\n",
    "cb.set_label('Elevation (m)')\n",
    "plt.xlabel('Road width (m)')\n",
    "plt.ylabel('Road length (m)')\n",
    "plt.tight_layout()\n",
    "plt.show()"
   ]
  },
  {
   "cell_type": "code",
   "execution_count": null,
   "id": "8c8ed802",
   "metadata": {},
   "outputs": [],
   "source": [
    "# Prep some variables for later\n",
    "xsec_pre = mg.at_node['topographic__elevation'][2196:2232].copy()\n",
    "\n",
    "X = mg.node_x.reshape(mg.shape)\n",
    "Y = mg.node_y.reshape(mg.shape)\n",
    "Z = z.reshape(mg.shape)"
   ]
  },
  {
   "cell_type": "code",
   "execution_count": null,
   "id": "c3b7a09e",
   "metadata": {},
   "outputs": [],
   "source": [
    "center = 20 #center node\n",
    "half_width = 4\n",
    "full_tire = True\n",
    "\n",
    "tpe = TruckPassErosion(mg, center, half_width, full_tire) #initialize component"
   ]
  },
  {
   "cell_type": "code",
   "execution_count": null,
   "id": "1b91a075",
   "metadata": {},
   "outputs": [],
   "source": [
    "import time\n",
    "start = time.time()\n",
    "\n",
    "#define how long to run the model\n",
    "model_end = 10 #days\n",
    "\n",
    "for i in range(0, model_end): #loop through model days\n",
    "    tpe.run_one_step()\n",
    "\n",
    "end = time.time()\n",
    "print(f\"Time taken to run the code was {end-start} seconds\")"
   ]
  },
  {
   "cell_type": "code",
   "execution_count": null,
   "id": "821df92b",
   "metadata": {},
   "outputs": [],
   "source": [
    "xsec_active = mg.at_node['active__elev'][2196:2232]\n",
    "xsec_surf =  mg.at_node['surfacing__elev'][2196:2232] \n",
    "xsec_ball = mg.at_node['ballast__elev'][2196:2232]\n",
    "\n",
    "plt.figure(figsize=(8,3), layout='tight')\n",
    "plt.plot(X[36], xsec_pre, color='gray', linestyle='-.', label='Before')\n",
    "plt.plot(X[36], xsec_active, color ='black', linestyle='-', label = 'After - Active elevation')\n",
    "plt.plot(X[36], xsec_surf, color ='magenta', linestyle='-', label = 'After - Surfacing elevation')\n",
    "plt.plot(X[36], xsec_ball, color ='cyan', linestyle='-', label = 'After - Ballast elevation ')\n",
    "plt.xlim(0,10)\n",
    "plt.xlabel('Road width (m)')\n",
    "plt.ylabel('Elevation (m)')\n",
    "plt.legend()\n",
    "plt.show()"
   ]
  },
  {
   "cell_type": "code",
   "execution_count": null,
   "id": "a288c755",
   "metadata": {},
   "outputs": [],
   "source": [
    "# 2D rill plot\n",
    "plt.figure(figsize = (3,6), layout='tight')\n",
    "im = imshow_grid(mg, z, allow_colorbar=False, grid_units = ('m','m'), cmap = 'gist_earth', vmin = 0, vmax = 4)\n",
    "cb = plt.colorbar()\n",
    "cb.set_label('Elevation (m)')\n",
    "plt.xlabel('Road width (m)')\n",
    "plt.ylabel('Road length (m)')\n",
    "plt.tight_layout()\n",
    "plt.show()"
   ]
  },
  {
   "cell_type": "code",
   "execution_count": null,
   "id": "de8beb59",
   "metadata": {},
   "outputs": [],
   "source": []
  }
 ],
 "metadata": {
  "kernelspec": {
   "display_name": "landlab_dev",
   "language": "python",
   "name": "python3"
  },
  "language_info": {
   "codemirror_mode": {
    "name": "ipython",
    "version": 3
   },
   "file_extension": ".py",
   "mimetype": "text/x-python",
   "name": "python",
   "nbconvert_exporter": "python",
   "pygments_lexer": "ipython3",
   "version": "3.11.10"
  }
 },
 "nbformat": 4,
 "nbformat_minor": 5
}
